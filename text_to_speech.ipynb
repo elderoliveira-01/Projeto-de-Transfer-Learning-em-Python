{
  "nbformat": 4,
  "nbformat_minor": 0,
  "metadata": {
    "colab": {
      "provenance": [],
      "authorship_tag": "ABX9TyOyafLPQ9KHkqQQeM7/4Dj2",
      "include_colab_link": true
    },
    "kernelspec": {
      "name": "python3",
      "display_name": "Python 3"
    },
    "language_info": {
      "name": "python"
    }
  },
  "cells": [
    {
      "cell_type": "markdown",
      "metadata": {
        "id": "view-in-github",
        "colab_type": "text"
      },
      "source": [
        "<a href=\"https://colab.research.google.com/github/elderoliveira-01/Projeto-de-Transfer-Learning-em-Python/blob/main/text_to_speech.ipynb\" target=\"_parent\"><img src=\"https://colab.research.google.com/assets/colab-badge.svg\" alt=\"Open In Colab\"/></a>"
      ]
    },
    {
      "cell_type": "code",
      "source": [
        "!pip install gTTS\n"
      ],
      "metadata": {
        "colab": {
          "base_uri": "https://localhost:8080/"
        },
        "id": "m3aZ7qeqH3fq",
        "outputId": "df54d37e-b207-4fa9-f898-5c72b90568e1"
      },
      "execution_count": null,
      "outputs": [
        {
          "output_type": "stream",
          "name": "stdout",
          "text": [
            "Collecting gTTS\n",
            "  Downloading gTTS-2.5.4-py3-none-any.whl.metadata (4.1 kB)\n",
            "Requirement already satisfied: requests<3,>=2.27 in /usr/local/lib/python3.10/dist-packages (from gTTS) (2.32.3)\n",
            "Requirement already satisfied: click<8.2,>=7.1 in /usr/local/lib/python3.10/dist-packages (from gTTS) (8.1.7)\n",
            "Requirement already satisfied: charset-normalizer<4,>=2 in /usr/local/lib/python3.10/dist-packages (from requests<3,>=2.27->gTTS) (3.4.0)\n",
            "Requirement already satisfied: idna<4,>=2.5 in /usr/local/lib/python3.10/dist-packages (from requests<3,>=2.27->gTTS) (3.10)\n",
            "Requirement already satisfied: urllib3<3,>=1.21.1 in /usr/local/lib/python3.10/dist-packages (from requests<3,>=2.27->gTTS) (2.2.3)\n",
            "Requirement already satisfied: certifi>=2017.4.17 in /usr/local/lib/python3.10/dist-packages (from requests<3,>=2.27->gTTS) (2024.12.14)\n",
            "Downloading gTTS-2.5.4-py3-none-any.whl (29 kB)\n",
            "Installing collected packages: gTTS\n",
            "Successfully installed gTTS-2.5.4\n"
          ]
        }
      ]
    },
    {
      "cell_type": "code",
      "source": [
        "from gtts import gTTS\n",
        "from IPython.display import Audio, display\n",
        "\n",
        "# Solicita ao usuário o texto para conversão\n",
        "texto = input(\"Digite o texto que deseja converter em áudio: \")\n",
        "\n",
        "# Configuração do idioma (ex.: 'pt' para português)\n",
        "idioma = 'pt'\n",
        "\n",
        "# Verifica se o texto é válido (não vazio)\n",
        "if not texto.strip():\n",
        "    print(\"Por favor, insira um texto válido.\")\n",
        "else:\n",
        "    try:\n",
        "        # Cria o objeto gTTS\n",
        "        tts = gTTS(text=texto, lang=idioma, slow=False)\n",
        "\n",
        "        # Salva o arquivo de áudio no Colab\n",
        "        arquivo_audio = \"exemplo.mp3\"\n",
        "        tts.save(arquivo_audio)\n",
        "        print(\"Arquivo de áudio criado com sucesso!\")\n",
        "\n",
        "        # Reproduz o áudio no Colab\n",
        "        display(Audio(arquivo_audio, autoplay=True))\n",
        "    except Exception as e:\n",
        "        print(f\"Ocorreu um erro ao processar o áudio: {e}\")\n"
      ],
      "metadata": {
        "colab": {
          "base_uri": "https://localhost:8080/",
          "height": 111
        },
        "id": "nC8uE5qpIr3x",
        "outputId": "af529cb8-d9b4-461d-e25a-078ccb1986c5"
      },
      "execution_count": null,
      "outputs": [
        {
          "output_type": "stream",
          "name": "stdout",
          "text": [
            "Digite o texto que deseja converter em áudio: Sorvete\n",
            "Arquivo de áudio criado com sucesso!\n"
          ]
        },
        {
          "output_type": "display_data",
          "data": {
            "text/plain": [
              "<IPython.lib.display.Audio object>"
            ],
            "text/html": [
              "\n",
              "                <audio  controls=\"controls\" autoplay=\"autoplay\">\n",
              "                    <source src=\"data:audio/mpeg;base64,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\" type=\"audio/mpeg\" />\n",
              "                    Your browser does not support the audio element.\n",
              "                </audio>\n",
              "              "
            ]
          },
          "metadata": {}
        }
      ]
    }
  ]
}