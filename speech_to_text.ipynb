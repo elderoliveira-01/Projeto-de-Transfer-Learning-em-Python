{
  "nbformat": 4,
  "nbformat_minor": 0,
  "metadata": {
    "colab": {
      "provenance": [],
      "authorship_tag": "ABX9TyP/dCLlwhah0OKM8Bn/vBVr",
      "include_colab_link": true
    },
    "kernelspec": {
      "name": "python3",
      "display_name": "Python 3"
    },
    "language_info": {
      "name": "python"
    }
  },
  "cells": [
    {
      "cell_type": "markdown",
      "metadata": {
        "id": "view-in-github",
        "colab_type": "text"
      },
      "source": [
        "<a href=\"https://colab.research.google.com/github/elderoliveira-01/Projeto-de-Transfer-Learning-em-Python/blob/main/speech_to_text.ipynb\" target=\"_parent\"><img src=\"https://colab.research.google.com/assets/colab-badge.svg\" alt=\"Open In Colab\"/></a>"
      ]
    },
    {
      "cell_type": "code",
      "execution_count": 2,
      "metadata": {
        "colab": {
          "base_uri": "https://localhost:8080/"
        },
        "id": "7-e7FUPr5Cpd",
        "outputId": "54997915-e492-43a4-8ed2-9affae61b9bb"
      },
      "outputs": [
        {
          "output_type": "stream",
          "name": "stdout",
          "text": [
            "Collecting SpeechRecognition\n",
            "  Downloading SpeechRecognition-3.13.0-py3-none-any.whl.metadata (30 kB)\n",
            "Requirement already satisfied: typing-extensions in /usr/local/lib/python3.10/dist-packages (from SpeechRecognition) (4.12.2)\n",
            "Downloading SpeechRecognition-3.13.0-py3-none-any.whl (32.8 MB)\n",
            "\u001b[2K   \u001b[90m━━━━━━━━━━━━━━━━━━━━━━━━━━━━━━━━━━━━━━━━\u001b[0m \u001b[32m32.8/32.8 MB\u001b[0m \u001b[31m65.6 MB/s\u001b[0m eta \u001b[36m0:00:00\u001b[0m\n",
            "\u001b[?25hInstalling collected packages: SpeechRecognition\n",
            "Successfully installed SpeechRecognition-3.13.0\n"
          ]
        }
      ],
      "source": [
        "!pip install SpeechRecognition\n"
      ]
    },
    {
      "cell_type": "code",
      "source": [
        "import speech_recognition as sr\n",
        "import webbrowser\n",
        "from IPython.display import display, HTML\n",
        "import re  # Para fazer a extração da pesquisa\n",
        "\n",
        "# Inicializa o reconhecedor de voz\n",
        "reconhecedor = sr.Recognizer()\n",
        "\n",
        "# Caminho para o arquivo de áudio (formato .wav)\n",
        "caminho_audio = \"exemplo.wav\"\n",
        "\n",
        "try:\n",
        "    # Carrega o arquivo de áudio\n",
        "    with sr.AudioFile(caminho_audio) as fonte:\n",
        "        print(\"Carregando o arquivo de áudio...\")\n",
        "        audio = reconhecedor.record(fonte)  # Lê todo o áudio do arquivo\n",
        "\n",
        "    # Reconhece o texto (usando a API do Google)\n",
        "    print(\"Reconhecendo texto...\")\n",
        "    texto = reconhecedor.recognize_google(audio, language=\"en\")\n",
        "    print(\"Texto reconhecido:\")\n",
        "    print(texto)\n",
        "\n",
        "    # Salva o texto em um arquivo\n",
        "    nome_arquivo = \"texto_reconhecido.txt\"\n",
        "    with open(nome_arquivo, 'w', encoding='utf-8') as arquivo:\n",
        "        arquivo.write(texto)\n",
        "    print(f\"Texto salvo com sucesso no arquivo '{nome_arquivo}'.\")\n",
        "\n",
        "    # Verifica se o texto contém \"google\"\n",
        "    if \"google\" in texto.lower():\n",
        "        # Verifica se existe algo após \"google\" para uma pesquisa\n",
        "        padrao = r\"google (.+)\"\n",
        "        match = re.search(padrao, texto.lower())\n",
        "\n",
        "        if match:\n",
        "            # Extrai a consulta após \"google\"\n",
        "            consulta = match.group(1)\n",
        "            print(f\"Pesquisa encontrada: {consulta}\")\n",
        "\n",
        "            # Cria a URL de pesquisa do Google\n",
        "            url_google = f\"https://www.google.com/search?q={consulta}\"\n",
        "\n",
        "            # Exibe o link clicável no Colab\n",
        "            display(HTML(f'<a href=\"{url_google}\" target=\"_blank\">Clique aqui para pesquisar no Google: {consulta}</a>'))\n",
        "        else:\n",
        "            # Se apenas \"google\" foi mencionado, realiza uma pesquisa em branco\n",
        "            print(\"A palavra 'Google' foi mencionada sem consulta. Abrindo o Google...\")\n",
        "            display(HTML('<a href=\"https://www.google.com\" target=\"_blank\">Clique aqui para abrir o Google</a>'))\n",
        "\n",
        "    else:\n",
        "        print(\"A palavra 'Google' não foi encontrada no texto.\")\n",
        "\n",
        "except sr.UnknownValueError:\n",
        "    print(\"Não foi possível entender o áudio.\")\n",
        "except sr.RequestError as e:\n",
        "    print(f\"Erro ao se conectar ao serviço de reconhecimento de fala: {e}\")\n",
        "except Exception as e:\n",
        "    print(f\"Ocorreu um erro: {e}\")\n"
      ],
      "metadata": {
        "colab": {
          "base_uri": "https://localhost:8080/",
          "height": 143
        },
        "id": "-DBM_sWuVQus",
        "outputId": "f67d68c1-3605-4a7c-ac8e-777d49354751"
      },
      "execution_count": 3,
      "outputs": [
        {
          "output_type": "stream",
          "name": "stdout",
          "text": [
            "Carregando o arquivo de áudio...\n",
            "Reconhecendo texto...\n",
            "Texto reconhecido:\n",
            "Google best movies 2024\n",
            "Texto salvo com sucesso no arquivo 'texto_reconhecido.txt'.\n",
            "Pesquisa encontrada: best movies 2024\n"
          ]
        },
        {
          "output_type": "display_data",
          "data": {
            "text/plain": [
              "<IPython.core.display.HTML object>"
            ],
            "text/html": [
              "<a href=\"https://www.google.com/search?q=best movies 2024\" target=\"_blank\">Clique aqui para pesquisar no Google: best movies 2024</a>"
            ]
          },
          "metadata": {}
        }
      ]
    }
  ]
}